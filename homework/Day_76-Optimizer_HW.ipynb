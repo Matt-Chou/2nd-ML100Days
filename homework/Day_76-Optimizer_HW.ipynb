{
 "cells": [
  {
   "cell_type": "markdown",
   "metadata": {},
   "source": [
    "\n",
    "# 作業: \n",
    "    \n",
    "    (1)以, Adam, 為例, 調整 batch_size, epoch , 觀察accurancy, loss 的變化\n",
    "    \n",
    "    (2)以同一模型, 分別驗證 SGD, Adam, Rmsprop 的 accurancy"
   ]
  },
  {
   "cell_type": "code",
   "execution_count": 69,
   "metadata": {},
   "outputs": [],
   "source": [
    "import keras\n",
    "#from keras.datasets import cifar10\n",
    "from keras.datasets import mnist \n",
    "from keras.preprocessing.image import ImageDataGenerator\n",
    "from keras.models import Sequential, load_model\n",
    "from keras.layers import Dense, Dropout, Activation, Flatten\n",
    "from keras.layers import Conv2D, MaxPooling2D\n",
    "from keras import optimizers\n",
    "from keras.callbacks import EarlyStopping, ModelCheckpoint\n",
    "import numpy \n"
   ]
  },
  {
   "cell_type": "code",
   "execution_count": 70,
   "metadata": {},
   "outputs": [],
   "source": [
    "#    第一步：選擇模型, 順序模型是多個網絡層的線性堆疊\n",
    " \n",
    "model = Sequential()\n",
    "\n",
    "#   第二步：構建網絡層\n",
    " \n",
    "model.add(Dense( 500,input_shape=(784,))) # 輸入層，28*28=784   \n",
    "model.add(Activation('relu')) # 激活函數是relu   \n",
    "\n",
    "model.add(Dense( 500)) # 隱藏層節點500個   \n",
    "model.add(Activation('relu'))  \n",
    "\n",
    "model.add(Dense( 500)) # 隱藏層節點500個   \n",
    "model.add(Activation('relu'))  \n",
    "\n",
    "model.add(Dense( 500)) # 隱藏層節點500個   \n",
    "model.add(Activation('relu'))  \n",
    "\n",
    "model.add(Dense( 10)) # 輸出結果是10個類別，所以維度是10   \n",
    "model.add(Activation('softmax')) # 最後一層用softmax作為激活函數"
   ]
  },
  {
   "cell_type": "code",
   "execution_count": 71,
   "metadata": {},
   "outputs": [
    {
     "name": "stdout",
     "output_type": "stream",
     "text": [
      "Total Parameters：1149010\n"
     ]
    }
   ],
   "source": [
    "# 模型建立完成後，統計參數總量\n",
    "print(\"Total Parameters：%d\" % model.count_params())"
   ]
  },
  {
   "cell_type": "code",
   "execution_count": 72,
   "metadata": {},
   "outputs": [
    {
     "name": "stdout",
     "output_type": "stream",
     "text": [
      "_________________________________________________________________\n",
      "Layer (type)                 Output Shape              Param #   \n",
      "=================================================================\n",
      "dense_11 (Dense)             (None, 500)               392500    \n",
      "_________________________________________________________________\n",
      "activation_11 (Activation)   (None, 500)               0         \n",
      "_________________________________________________________________\n",
      "dense_12 (Dense)             (None, 500)               250500    \n",
      "_________________________________________________________________\n",
      "activation_12 (Activation)   (None, 500)               0         \n",
      "_________________________________________________________________\n",
      "dense_13 (Dense)             (None, 500)               250500    \n",
      "_________________________________________________________________\n",
      "activation_13 (Activation)   (None, 500)               0         \n",
      "_________________________________________________________________\n",
      "dense_14 (Dense)             (None, 500)               250500    \n",
      "_________________________________________________________________\n",
      "activation_14 (Activation)   (None, 500)               0         \n",
      "_________________________________________________________________\n",
      "dense_15 (Dense)             (None, 10)                5010      \n",
      "_________________________________________________________________\n",
      "activation_15 (Activation)   (None, 10)                0         \n",
      "=================================================================\n",
      "Total params: 1,149,010\n",
      "Trainable params: 1,149,010\n",
      "Non-trainable params: 0\n",
      "_________________________________________________________________\n"
     ]
    }
   ],
   "source": [
    "# 輸出模型摘要資訊\n",
    "model.summary()"
   ]
  },
  {
   "cell_type": "code",
   "execution_count": 89,
   "metadata": {},
   "outputs": [],
   "source": [
    " '''\n",
    " SGD(隨機梯度下降) - Arguments\n",
    "lr: float >= 0. Learning rate.\n",
    "momentum: float >= 0. Parameter that accelerates SGD in the relevant direction and dampens oscillations.\n",
    "decay: float >= 0. Learning rate decay over each update.\n",
    "nesterov: boolean. Whether to apply Nesterov momentum.\n",
    "'''\n",
    "\n",
    "'''\n",
    "RMSprop- Arguments\n",
    "lr: float >= 0. Learning rate.\n",
    "rho: float >= 0.\n",
    "epsilon: float >= 0. Fuzz factor. If None, defaults to K.epsilon().\n",
    "decay: float >= 0. Learning rate decay over each update.\n",
    "'''\n",
    "opt = optimizers.Adam(lr=0.001, epsilon=None, decay=0.0)"
   ]
  },
  {
   "cell_type": "markdown",
   "metadata": {},
   "source": [
    "# ADAM"
   ]
  },
  {
   "cell_type": "code",
   "execution_count": 74,
   "metadata": {},
   "outputs": [],
   "source": [
    "model.compile(optimizer = opt, loss = 'binary_crossentropy', metrics = ['accuracy'])"
   ]
  },
  {
   "cell_type": "code",
   "execution_count": 78,
   "metadata": {},
   "outputs": [],
   "source": [
    "#  第四步：資料分割\n",
    "# 使用Keras自帶的mnist工具讀取數據（第一次需要聯網）\n",
    "(X_train, y_train), (X_test, y_test) = mnist.load_data() \n",
    "\n",
    "# 由於mist的輸入數據維度是(num, 28 , 28)，這裡需要把後面的維度直接拼起來變成784維   \n",
    "X_train = X_train.reshape(X_train.shape[0], X_train.shape[1] * X_train.shape[2 ]) / 255.0\n",
    "X_test = X_test.reshape(X_test.shape[0], X_test.shape[1] * X_test.shape[2 ]) / 255.0\n",
    "Y_train = (numpy.arange(10) == y_train[:, None]).astype(int)\n",
    "Y_test = (numpy.arange(10) == y_test[:, None]).astype(int)\n"
   ]
  },
  {
   "cell_type": "code",
   "execution_count": 79,
   "metadata": {},
   "outputs": [],
   "source": [
    "\n",
    "'''\n",
    "   宣告並設定\n",
    "   batch_size：對總的樣本數進行分組，每組包含的樣本數量\n",
    "   epochs ：訓練次數\n",
    "   \n",
    "''' \n",
    "batch_size = 64\n",
    "epochs = 20"
   ]
  },
  {
   "cell_type": "code",
   "execution_count": 80,
   "metadata": {},
   "outputs": [
    {
     "name": "stdout",
     "output_type": "stream",
     "text": [
      "Train on 42000 samples, validate on 18000 samples\n",
      "Epoch 1/20\n",
      " - 3s - loss: 0.0498 - acc: 0.9839 - val_loss: 0.0254 - val_acc: 0.9921\n",
      "Epoch 2/20\n",
      " - 3s - loss: 0.0193 - acc: 0.9937 - val_loss: 0.0231 - val_acc: 0.9926\n",
      "Epoch 3/20\n",
      " - 3s - loss: 0.0137 - acc: 0.9954 - val_loss: 0.0229 - val_acc: 0.9928\n",
      "Epoch 4/20\n",
      " - 3s - loss: 0.0101 - acc: 0.9967 - val_loss: 0.0207 - val_acc: 0.9939\n",
      "Epoch 5/20\n",
      " - 3s - loss: 0.0086 - acc: 0.9972 - val_loss: 0.0227 - val_acc: 0.9939\n",
      "Epoch 6/20\n",
      " - 3s - loss: 0.0071 - acc: 0.9976 - val_loss: 0.0218 - val_acc: 0.9944\n",
      "Epoch 7/20\n",
      " - 3s - loss: 0.0060 - acc: 0.9979 - val_loss: 0.0232 - val_acc: 0.9941\n",
      "Epoch 8/20\n",
      " - 3s - loss: 0.0057 - acc: 0.9982 - val_loss: 0.0241 - val_acc: 0.9940\n",
      "Epoch 9/20\n",
      " - 3s - loss: 0.0049 - acc: 0.9983 - val_loss: 0.0299 - val_acc: 0.9933\n",
      "Epoch 10/20\n",
      " - 3s - loss: 0.0042 - acc: 0.9986 - val_loss: 0.0261 - val_acc: 0.9944\n",
      "Epoch 11/20\n",
      " - 3s - loss: 0.0041 - acc: 0.9987 - val_loss: 0.0244 - val_acc: 0.9944\n",
      "Epoch 12/20\n",
      " - 3s - loss: 0.0044 - acc: 0.9986 - val_loss: 0.0241 - val_acc: 0.9946\n",
      "Epoch 13/20\n",
      " - 3s - loss: 0.0034 - acc: 0.9989 - val_loss: 0.0279 - val_acc: 0.9942\n",
      "Epoch 14/20\n",
      " - 3s - loss: 0.0040 - acc: 0.9987 - val_loss: 0.0237 - val_acc: 0.9942\n",
      "Epoch 15/20\n",
      " - 3s - loss: 0.0027 - acc: 0.9992 - val_loss: 0.0276 - val_acc: 0.9947\n",
      "Epoch 16/20\n",
      " - 3s - loss: 0.0036 - acc: 0.9989 - val_loss: 0.0261 - val_acc: 0.9943\n",
      "Epoch 17/20\n",
      " - 3s - loss: 0.0025 - acc: 0.9992 - val_loss: 0.0308 - val_acc: 0.9939\n",
      "Epoch 18/20\n",
      " - 3s - loss: 0.0027 - acc: 0.9991 - val_loss: 0.0311 - val_acc: 0.9946\n",
      "Epoch 19/20\n",
      " - 3s - loss: 0.0030 - acc: 0.9992 - val_loss: 0.0315 - val_acc: 0.9946\n",
      "Epoch 20/20\n",
      " - 3s - loss: 0.0023 - acc: 0.9992 - val_loss: 0.0347 - val_acc: 0.9941\n"
     ]
    }
   ],
   "source": [
    "# 第五步：訓練, 修正 model 參數\n",
    "#Blas GEMM launch failed , 避免動態分配GPU / CPU, 出現問題\n",
    "import tensorflow as tf\n",
    "gpu_options = tf.GPUOptions(per_process_gpu_memory_fraction=0.333)\n",
    "sess = tf.Session(config=tf.ConfigProto(gpu_options=gpu_options))\n",
    "\n",
    "\n",
    "history = model.fit(X_train,Y_train,batch_size = batch_size, epochs=epochs, shuffle=True,verbose=2,validation_split=0.3 )"
   ]
  },
  {
   "cell_type": "code",
   "execution_count": 11,
   "metadata": {},
   "outputs": [
    {
     "name": "stdout",
     "output_type": "stream",
     "text": [
      " test set \n",
      "\n",
      " The test loss is %f  [0.04340142106520943, 0.9905500209331513]\n",
      "\n",
      " The accuracy of the model is 0.952200 \n"
     ]
    }
   ],
   "source": [
    "#    第六步：輸出\n",
    " \n",
    "print ( \" test set \" )\n",
    "scores = model.evaluate(X_test,Y_test,batch_size=200,verbose= 0)\n",
    "print ( \"\" )\n",
    "#print ( \" The test loss is %f \" % scores)\n",
    "print ( \" The test loss is %f \", scores)\n",
    "result = model.predict(X_test,batch_size=200,verbose= 0)\n",
    "\n",
    "result_max = numpy.argmax(result, axis = 1 )\n",
    "test_max = numpy.argmax(Y_test, axis = 1 )\n",
    "\n",
    "result_bool = numpy.equal(result_max, test_max)\n",
    "true_num = numpy.sum(result_bool)\n",
    "print ( \"\" )\n",
    "print ( \" The accuracy of the model is %f \" % (true_num/len(result_bool)))"
   ]
  },
  {
   "cell_type": "code",
   "execution_count": 81,
   "metadata": {},
   "outputs": [
    {
     "data": {
      "image/png": "[encoded data removed]",
      "text/plain": [
       "<Figure size 432x288 with 1 Axes>"
      ]
     },
     "metadata": {
      "needs_background": "light"
     },
     "output_type": "display_data"
    },
    {
     "data": {
      "image/png": "[encoded data removed]",
      "text/plain": [
       "<Figure size 432x288 with 1 Axes>"
      ]
     },
     "metadata": {
      "needs_background": "light"
     },
     "output_type": "display_data"
    }
   ],
   "source": [
    "import matplotlib.pyplot as plt\n",
    "\n",
    "%matplotlib inline\n",
    "\n",
    "# history = model.fit(x, y, validation_split=0.25, epochs=50, batch_size=16, verbose=1)\n",
    "\n",
    "# Plot training & validation accuracy values\n",
    "plt.plot(history.history['acc'])\n",
    "plt.plot(history.history['val_acc'])\n",
    "plt.title('Model accuracy')\n",
    "plt.ylabel('Accuracy')\n",
    "plt.xlabel('Epoch')\n",
    "plt.legend(['Train', 'Test'], loc='upper left')\n",
    "plt.show()\n",
    "\n",
    "# Plot training & validation loss values\n",
    "plt.plot(history.history['loss'])\n",
    "plt.plot(history.history['val_loss'])\n",
    "plt.title('Model loss')\n",
    "plt.ylabel('Loss')\n",
    "plt.xlabel('Epoch')\n",
    "plt.legend(['Train', 'Test'], loc='upper left')\n",
    "plt.show()"
   ]
  },
  {
   "cell_type": "markdown",
   "metadata": {},
   "source": [
    "# ADAM \n",
    "BATCH SIZE = 32"
   ]
  },
  {
   "cell_type": "code",
   "execution_count": 82,
   "metadata": {},
   "outputs": [
    {
     "name": "stdout",
     "output_type": "stream",
     "text": [
      "Train on 42000 samples, validate on 18000 samples\n",
      "Epoch 1/20\n",
      " - 5s - loss: 0.0064 - acc: 0.9982 - val_loss: 0.0288 - val_acc: 0.9938\n",
      "Epoch 2/20\n",
      " - 5s - loss: 0.0047 - acc: 0.9985 - val_loss: 0.0286 - val_acc: 0.9947\n",
      "Epoch 3/20\n",
      " - 5s - loss: 0.0042 - acc: 0.9988 - val_loss: 0.0256 - val_acc: 0.9946\n",
      "Epoch 4/20\n",
      " - 5s - loss: 0.0040 - acc: 0.9990 - val_loss: 0.0390 - val_acc: 0.9922\n",
      "Epoch 5/20\n",
      " - 5s - loss: 0.0040 - acc: 0.9989 - val_loss: 0.0317 - val_acc: 0.9942\n",
      "Epoch 6/20\n",
      " - 5s - loss: 0.0034 - acc: 0.9991 - val_loss: 0.0315 - val_acc: 0.9944\n",
      "Epoch 7/20\n",
      " - 5s - loss: 0.0039 - acc: 0.9988 - val_loss: 0.0274 - val_acc: 0.9950\n",
      "Epoch 8/20\n",
      " - 5s - loss: 0.0037 - acc: 0.9990 - val_loss: 0.0325 - val_acc: 0.9940\n",
      "Epoch 9/20\n",
      " - 5s - loss: 0.0040 - acc: 0.9989 - val_loss: 0.0284 - val_acc: 0.9950\n",
      "Epoch 10/20\n",
      " - 5s - loss: 0.0028 - acc: 0.9992 - val_loss: 0.0285 - val_acc: 0.9952\n",
      "Epoch 11/20\n",
      " - 5s - loss: 0.0032 - acc: 0.9991 - val_loss: 0.0356 - val_acc: 0.9941\n",
      "Epoch 12/20\n",
      " - 5s - loss: 0.0039 - acc: 0.9991 - val_loss: 0.0326 - val_acc: 0.9944\n",
      "Epoch 13/20\n",
      " - 5s - loss: 0.0038 - acc: 0.9990 - val_loss: 0.0325 - val_acc: 0.9947\n",
      "Epoch 14/20\n",
      " - 5s - loss: 0.0024 - acc: 0.9994 - val_loss: 0.0326 - val_acc: 0.9948\n",
      "Epoch 15/20\n",
      " - 5s - loss: 0.0031 - acc: 0.9992 - val_loss: 0.0309 - val_acc: 0.9949\n",
      "Epoch 16/20\n",
      " - 6s - loss: 0.0032 - acc: 0.9992 - val_loss: 0.0325 - val_acc: 0.9946\n",
      "Epoch 17/20\n",
      " - 5s - loss: 0.0022 - acc: 0.9994 - val_loss: 0.0375 - val_acc: 0.9949\n",
      "Epoch 18/20\n",
      " - 5s - loss: 0.0031 - acc: 0.9992 - val_loss: 0.0332 - val_acc: 0.9946\n",
      "Epoch 19/20\n",
      " - 5s - loss: 0.0027 - acc: 0.9993 - val_loss: 0.0323 - val_acc: 0.9948\n",
      "Epoch 20/20\n",
      " - 5s - loss: 0.0028 - acc: 0.9993 - val_loss: 0.0373 - val_acc: 0.9945\n",
      " test set \n",
      "\n",
      " The test loss is %f  [0.034356739293680646, 0.9950300061702728]\n",
      "\n",
      " The accuracy of the model is 0.974600 \n"
     ]
    }
   ],
   "source": [
    "batch_size = 32\n",
    "epochs = 20\n",
    "\n",
    "import tensorflow as tf\n",
    "gpu_options = tf.GPUOptions(per_process_gpu_memory_fraction=0.333)\n",
    "sess = tf.Session(config=tf.ConfigProto(gpu_options=gpu_options))\n",
    "\n",
    "history = model.fit(X_train,Y_train,batch_size = batch_size, epochs=epochs, shuffle=True,verbose=2,validation_split=0.3 )\n",
    " \n",
    "print ( \" test set \" )\n",
    "scores = model.evaluate(X_test,Y_test,batch_size=200,verbose= 0)\n",
    "print ( \"\" )\n",
    "#print ( \" The test loss is %f \" % scores)\n",
    "print ( \" The test loss is %f \", scores)\n",
    "result = model.predict(X_test,batch_size=200,verbose= 0)\n",
    "\n",
    "result_max = numpy.argmax(result, axis = 1 )\n",
    "test_max = numpy.argmax(Y_test, axis = 1 )\n",
    "\n",
    "result_bool = numpy.equal(result_max, test_max)\n",
    "true_num = numpy.sum(result_bool)\n",
    "print ( \"\" )\n",
    "print ( \" The accuracy of the model is %f \" % (true_num/len(result_bool)))"
   ]
  },
  {
   "cell_type": "code",
   "execution_count": 83,
   "metadata": {},
   "outputs": [
    {
     "data": {
      "image/png": "[encoded data removed]",
      "text/plain": [
       "<Figure size 432x288 with 1 Axes>"
      ]
     },
     "metadata": {
      "needs_background": "light"
     },
     "output_type": "display_data"
    },
    {
     "data": {
      "image/png": "[encoded data removed]",
      "text/plain": [
       "<Figure size 432x288 with 1 Axes>"
      ]
     },
     "metadata": {
      "needs_background": "light"
     },
     "output_type": "display_data"
    }
   ],
   "source": [
    "import matplotlib.pyplot as plt\n",
    "\n",
    "%matplotlib inline\n",
    "\n",
    "# history = model.fit(x, y, validation_split=0.25, epochs=50, batch_size=16, verbose=1)\n",
    "\n",
    "# Plot training & validation accuracy values\n",
    "plt.plot(history.history['acc'])\n",
    "plt.plot(history.history['val_acc'])\n",
    "plt.title('Model accuracy')\n",
    "plt.ylabel('Accuracy')\n",
    "plt.xlabel('Epoch')\n",
    "plt.legend(['Train', 'Test'], loc='upper left')\n",
    "plt.show()\n",
    "\n",
    "# Plot training & validation loss values\n",
    "plt.plot(history.history['loss'])\n",
    "plt.plot(history.history['val_loss'])\n",
    "plt.title('Model loss')\n",
    "plt.ylabel('Loss')\n",
    "plt.xlabel('Epoch')\n",
    "plt.legend(['Train', 'Test'], loc='upper left')\n",
    "plt.show()"
   ]
  },
  {
   "cell_type": "markdown",
   "metadata": {},
   "source": [
    "# ADAM \n",
    "BATCH SIZE = 64"
   ]
  },
  {
   "cell_type": "code",
   "execution_count": 85,
   "metadata": {},
   "outputs": [
    {
     "name": "stdout",
     "output_type": "stream",
     "text": [
      "Train on 42000 samples, validate on 18000 samples\n",
      "Epoch 1/20\n",
      " - 3s - loss: 0.0019 - acc: 0.9995 - val_loss: 0.0278 - val_acc: 0.9954\n",
      "Epoch 2/20\n",
      " - 3s - loss: 3.3088e-04 - acc: 0.9999 - val_loss: 0.0389 - val_acc: 0.9951\n",
      "Epoch 3/20\n",
      " - 3s - loss: 1.4901e-04 - acc: 1.0000 - val_loss: 0.0383 - val_acc: 0.9954\n",
      "Epoch 4/20\n",
      " - 3s - loss: 0.0021 - acc: 0.9995 - val_loss: 0.0332 - val_acc: 0.9948\n",
      "Epoch 5/20\n",
      " - 3s - loss: 0.0018 - acc: 0.9995 - val_loss: 0.0326 - val_acc: 0.9953\n",
      "Epoch 6/20\n",
      " - 3s - loss: 9.6714e-04 - acc: 0.9997 - val_loss: 0.0330 - val_acc: 0.9952\n",
      "Epoch 7/20\n",
      " - 3s - loss: 0.0030 - acc: 0.9994 - val_loss: 0.0360 - val_acc: 0.9946\n",
      "Epoch 8/20\n",
      " - 3s - loss: 0.0012 - acc: 0.9997 - val_loss: 0.0382 - val_acc: 0.9946\n",
      "Epoch 9/20\n",
      " - 3s - loss: 0.0016 - acc: 0.9996 - val_loss: 0.0370 - val_acc: 0.9951\n",
      "Epoch 10/20\n",
      " - 3s - loss: 0.0012 - acc: 0.9997 - val_loss: 0.0330 - val_acc: 0.9952\n",
      "Epoch 11/20\n",
      " - 3s - loss: 1.1023e-04 - acc: 1.0000 - val_loss: 0.0354 - val_acc: 0.9956\n",
      "Epoch 12/20\n",
      " - 3s - loss: 1.1552e-05 - acc: 1.0000 - val_loss: 0.0362 - val_acc: 0.9955\n",
      "Epoch 13/20\n",
      " - 3s - loss: 2.1177e-06 - acc: 1.0000 - val_loss: 0.0366 - val_acc: 0.9956\n",
      "Epoch 14/20\n",
      " - 3s - loss: 1.0706e-06 - acc: 1.0000 - val_loss: 0.0370 - val_acc: 0.9956\n",
      "Epoch 15/20\n",
      " - 3s - loss: 6.0757e-07 - acc: 1.0000 - val_loss: 0.0375 - val_acc: 0.9956\n",
      "Epoch 16/20\n",
      " - 3s - loss: 4.0949e-07 - acc: 1.0000 - val_loss: 0.0379 - val_acc: 0.9956\n",
      "Epoch 17/20\n",
      " - 3s - loss: 3.0802e-07 - acc: 1.0000 - val_loss: 0.0384 - val_acc: 0.9956\n",
      "Epoch 18/20\n",
      " - 3s - loss: 2.4130e-07 - acc: 1.0000 - val_loss: 0.0388 - val_acc: 0.9956\n",
      "Epoch 19/20\n",
      " - 3s - loss: 1.9596e-07 - acc: 1.0000 - val_loss: 0.0392 - val_acc: 0.9956\n",
      "Epoch 20/20\n",
      " - 3s - loss: 1.6556e-07 - acc: 1.0000 - val_loss: 0.0396 - val_acc: 0.9957\n",
      " test set \n",
      "\n",
      " The test loss is %f  [0.036552073854505096, 0.9957700085639953]\n",
      "\n",
      " The accuracy of the model is 0.978900 \n"
     ]
    }
   ],
   "source": [
    "batch_size = 64\n",
    "epochs = 20\n",
    "\n",
    "import tensorflow as tf\n",
    "gpu_options = tf.GPUOptions(per_process_gpu_memory_fraction=0.333)\n",
    "sess = tf.Session(config=tf.ConfigProto(gpu_options=gpu_options))\n",
    "\n",
    "history = model.fit(X_train,Y_train,batch_size = batch_size, epochs=epochs, shuffle=True,verbose=2,validation_split=0.3 )\n",
    " \n",
    "print ( \" test set \" )\n",
    "scores = model.evaluate(X_test,Y_test,batch_size=200,verbose= 0)\n",
    "print ( \"\" )\n",
    "#print ( \" The test loss is %f \" % scores)\n",
    "print ( \" The test loss is %f \", scores)\n",
    "result = model.predict(X_test,batch_size=200,verbose= 0)\n",
    "\n",
    "result_max = numpy.argmax(result, axis = 1 )\n",
    "test_max = numpy.argmax(Y_test, axis = 1 )\n",
    "\n",
    "result_bool = numpy.equal(result_max, test_max)\n",
    "true_num = numpy.sum(result_bool)\n",
    "print ( \"\" )\n",
    "print ( \" The accuracy of the model is %f \" % (true_num/len(result_bool)))"
   ]
  },
  {
   "cell_type": "code",
   "execution_count": 86,
   "metadata": {},
   "outputs": [
    {
     "data": {
      "image/png": "[encoded data removed]",
      "text/plain": [
       "<Figure size 432x288 with 1 Axes>"
      ]
     },
     "metadata": {
      "needs_background": "light"
     },
     "output_type": "display_data"
    },
    {
     "data": {
      "image/png": "[encoded data removed]",
      "text/plain": [
       "<Figure size 432x288 with 1 Axes>"
      ]
     },
     "metadata": {
      "needs_background": "light"
     },
     "output_type": "display_data"
    }
   ],
   "source": [
    "import matplotlib.pyplot as plt\n",
    "\n",
    "%matplotlib inline\n",
    "\n",
    "# history = model.fit(x, y, validation_split=0.25, epochs=50, batch_size=16, verbose=1)\n",
    "\n",
    "# Plot training & validation accuracy values\n",
    "plt.plot(history.history['acc'])\n",
    "plt.plot(history.history['val_acc'])\n",
    "plt.title('Model accuracy')\n",
    "plt.ylabel('Accuracy')\n",
    "plt.xlabel('Epoch')\n",
    "plt.legend(['Train', 'Test'], loc='upper left')\n",
    "plt.show()\n",
    "\n",
    "# Plot training & validation loss values\n",
    "plt.plot(history.history['loss'])\n",
    "plt.plot(history.history['val_loss'])\n",
    "plt.title('Model loss')\n",
    "plt.ylabel('Loss')\n",
    "plt.xlabel('Epoch')\n",
    "plt.legend(['Train', 'Test'], loc='upper left')\n",
    "plt.show()"
   ]
  },
  {
   "cell_type": "markdown",
   "metadata": {},
   "source": [
    "# ADAM \n",
    "BATCH SIZE = 128"
   ]
  },
  {
   "cell_type": "code",
   "execution_count": 87,
   "metadata": {},
   "outputs": [
    {
     "name": "stdout",
     "output_type": "stream",
     "text": [
      "Train on 42000 samples, validate on 18000 samples\n",
      "Epoch 1/20\n",
      " - 2s - loss: 1.4763e-07 - acc: 1.0000 - val_loss: 0.0398 - val_acc: 0.9957\n",
      "Epoch 2/20\n",
      " - 2s - loss: 1.4036e-07 - acc: 1.0000 - val_loss: 0.0400 - val_acc: 0.9957\n",
      "Epoch 3/20\n",
      " - 1s - loss: 1.3419e-07 - acc: 1.0000 - val_loss: 0.0402 - val_acc: 0.9957\n",
      "Epoch 4/20\n",
      " - 1s - loss: 1.2907e-07 - acc: 1.0000 - val_loss: 0.0404 - val_acc: 0.9957\n",
      "Epoch 5/20\n",
      " - 1s - loss: 1.2476e-07 - acc: 1.0000 - val_loss: 0.0405 - val_acc: 0.9957\n",
      "Epoch 6/20\n",
      " - 2s - loss: 1.2111e-07 - acc: 1.0000 - val_loss: 0.0407 - val_acc: 0.9957\n",
      "Epoch 7/20\n",
      " - 2s - loss: 1.1805e-07 - acc: 1.0000 - val_loss: 0.0409 - val_acc: 0.9957\n",
      "Epoch 8/20\n",
      " - 1s - loss: 1.1546e-07 - acc: 1.0000 - val_loss: 0.0411 - val_acc: 0.9957\n",
      "Epoch 9/20\n",
      " - 1s - loss: 1.1331e-07 - acc: 1.0000 - val_loss: 0.0413 - val_acc: 0.9957\n",
      "Epoch 10/20\n",
      " - 2s - loss: 1.1150e-07 - acc: 1.0000 - val_loss: 0.0414 - val_acc: 0.9957\n",
      "Epoch 11/20\n",
      " - 1s - loss: 1.0997e-07 - acc: 1.0000 - val_loss: 0.0416 - val_acc: 0.9957\n",
      "Epoch 12/20\n",
      " - 1s - loss: 1.0872e-07 - acc: 1.0000 - val_loss: 0.0417 - val_acc: 0.9957\n",
      "Epoch 13/20\n",
      " - 1s - loss: 1.0766e-07 - acc: 1.0000 - val_loss: 0.0419 - val_acc: 0.9957\n",
      "Epoch 14/20\n",
      " - 1s - loss: 1.0677e-07 - acc: 1.0000 - val_loss: 0.0420 - val_acc: 0.9957\n",
      "Epoch 15/20\n",
      " - 1s - loss: 1.0603e-07 - acc: 1.0000 - val_loss: 0.0422 - val_acc: 0.9957\n",
      "Epoch 16/20\n",
      " - 2s - loss: 1.0541e-07 - acc: 1.0000 - val_loss: 0.0423 - val_acc: 0.9957\n",
      "Epoch 17/20\n",
      " - 2s - loss: 1.0488e-07 - acc: 1.0000 - val_loss: 0.0425 - val_acc: 0.9957\n",
      "Epoch 18/20\n",
      " - 1s - loss: 1.0444e-07 - acc: 1.0000 - val_loss: 0.0426 - val_acc: 0.9957\n",
      "Epoch 19/20\n",
      " - 1s - loss: 1.0407e-07 - acc: 1.0000 - val_loss: 0.0427 - val_acc: 0.9957\n",
      "Epoch 20/20\n",
      " - 2s - loss: 1.0376e-07 - acc: 1.0000 - val_loss: 0.0428 - val_acc: 0.9957\n",
      " test set \n",
      "\n",
      " The test loss is %f  [0.03961915580027878, 0.9957500123977661]\n",
      "\n",
      " The accuracy of the model is 0.978700 \n"
     ]
    }
   ],
   "source": [
    "batch_size = 128\n",
    "epochs = 20\n",
    "\n",
    "import tensorflow as tf\n",
    "gpu_options = tf.GPUOptions(per_process_gpu_memory_fraction=0.333)\n",
    "sess = tf.Session(config=tf.ConfigProto(gpu_options=gpu_options))\n",
    "\n",
    "history = model.fit(X_train,Y_train,batch_size = batch_size, epochs=epochs, shuffle=True,verbose=2,validation_split=0.3 )\n",
    " \n",
    "print ( \" test set \" )\n",
    "scores = model.evaluate(X_test,Y_test,batch_size=200,verbose= 0)\n",
    "print ( \"\" )\n",
    "#print ( \" The test loss is %f \" % scores)\n",
    "print ( \" The test loss is %f \", scores)\n",
    "result = model.predict(X_test,batch_size=200,verbose= 0)\n",
    "\n",
    "result_max = numpy.argmax(result, axis = 1 )\n",
    "test_max = numpy.argmax(Y_test, axis = 1 )\n",
    "\n",
    "result_bool = numpy.equal(result_max, test_max)\n",
    "true_num = numpy.sum(result_bool)\n",
    "print ( \"\" )\n",
    "print ( \" The accuracy of the model is %f \" % (true_num/len(result_bool)))"
   ]
  },
  {
   "cell_type": "code",
   "execution_count": 88,
   "metadata": {},
   "outputs": [
    {
     "data": {
      "image/png": "[encoded data removed]",
      "text/plain": [
       "<Figure size 432x288 with 1 Axes>"
      ]
     },
     "metadata": {
      "needs_background": "light"
     },
     "output_type": "display_data"
    },
    {
     "data": {
      "image/png": "[encoded data removed]",
      "text/plain": [
       "<Figure size 432x288 with 1 Axes>"
      ]
     },
     "metadata": {
      "needs_background": "light"
     },
     "output_type": "display_data"
    }
   ],
   "source": [
    "import matplotlib.pyplot as plt\n",
    "\n",
    "%matplotlib inline\n",
    "\n",
    "# history = model.fit(x, y, validation_split=0.25, epochs=50, batch_size=16, verbose=1)\n",
    "\n",
    "# Plot training & validation accuracy values\n",
    "plt.plot(history.history['acc'])\n",
    "plt.plot(history.history['val_acc'])\n",
    "plt.title('Model accuracy')\n",
    "plt.ylabel('Accuracy')\n",
    "plt.xlabel('Epoch')\n",
    "plt.legend(['Train', 'Test'], loc='upper left')\n",
    "plt.show()\n",
    "\n",
    "# Plot training & validation loss values\n",
    "plt.plot(history.history['loss'])\n",
    "plt.plot(history.history['val_loss'])\n",
    "plt.title('Model loss')\n",
    "plt.ylabel('Loss')\n",
    "plt.xlabel('Epoch')\n",
    "plt.legend(['Train', 'Test'], loc='upper left')\n",
    "plt.show()"
   ]
  },
  {
   "cell_type": "markdown",
   "metadata": {},
   "source": [
    "# SGD"
   ]
  },
  {
   "cell_type": "code",
   "execution_count": 91,
   "metadata": {},
   "outputs": [],
   "source": [
    "opt = optimizers.SGD(lr=0.001)"
   ]
  },
  {
   "cell_type": "code",
   "execution_count": 92,
   "metadata": {},
   "outputs": [
    {
     "name": "stdout",
     "output_type": "stream",
     "text": [
      "Train on 42000 samples, validate on 18000 samples\n",
      "Epoch 1/20\n",
      " - 2s - loss: 1.0349e-07 - acc: 1.0000 - val_loss: 0.0430 - val_acc: 0.9957\n",
      "Epoch 2/20\n",
      " - 1s - loss: 1.0327e-07 - acc: 1.0000 - val_loss: 0.0431 - val_acc: 0.9957\n",
      "Epoch 3/20\n",
      " - 1s - loss: 1.0307e-07 - acc: 1.0000 - val_loss: 0.0432 - val_acc: 0.9957\n",
      "Epoch 4/20\n",
      " - 1s - loss: 1.0291e-07 - acc: 1.0000 - val_loss: 0.0433 - val_acc: 0.9957\n",
      "Epoch 5/20\n",
      " - 1s - loss: 1.0277e-07 - acc: 1.0000 - val_loss: 0.0434 - val_acc: 0.9957\n",
      "Epoch 6/20\n",
      " - 2s - loss: 1.0265e-07 - acc: 1.0000 - val_loss: 0.0435 - val_acc: 0.9957\n",
      "Epoch 7/20\n",
      " - 1s - loss: 1.0256e-07 - acc: 1.0000 - val_loss: 0.0436 - val_acc: 0.9957\n",
      "Epoch 8/20\n",
      " - 1s - loss: 1.0247e-07 - acc: 1.0000 - val_loss: 0.0437 - val_acc: 0.9957\n",
      "Epoch 9/20\n",
      " - 1s - loss: 1.0240e-07 - acc: 1.0000 - val_loss: 0.0438 - val_acc: 0.9957\n",
      "Epoch 10/20\n",
      " - 1s - loss: 1.0233e-07 - acc: 1.0000 - val_loss: 0.0438 - val_acc: 0.9957\n",
      "Epoch 11/20\n",
      " - 2s - loss: 1.0228e-07 - acc: 1.0000 - val_loss: 0.0439 - val_acc: 0.9957\n",
      "Epoch 12/20\n",
      " - 2s - loss: 1.0224e-07 - acc: 1.0000 - val_loss: 0.0440 - val_acc: 0.9958\n",
      "Epoch 13/20\n",
      " - 1s - loss: 1.0220e-07 - acc: 1.0000 - val_loss: 0.0441 - val_acc: 0.9957\n",
      "Epoch 14/20\n",
      " - 1s - loss: 1.0216e-07 - acc: 1.0000 - val_loss: 0.0441 - val_acc: 0.9957\n",
      "Epoch 15/20\n",
      " - 2s - loss: 1.0213e-07 - acc: 1.0000 - val_loss: 0.0442 - val_acc: 0.9957\n",
      "Epoch 16/20\n",
      " - 1s - loss: 1.0211e-07 - acc: 1.0000 - val_loss: 0.0443 - val_acc: 0.9957\n",
      "Epoch 17/20\n",
      " - 2s - loss: 1.0209e-07 - acc: 1.0000 - val_loss: 0.0443 - val_acc: 0.9958\n",
      "Epoch 18/20\n",
      " - 1s - loss: 1.0207e-07 - acc: 1.0000 - val_loss: 0.0444 - val_acc: 0.9958\n",
      "Epoch 19/20\n",
      " - 1s - loss: 1.0205e-07 - acc: 1.0000 - val_loss: 0.0445 - val_acc: 0.9958\n",
      "Epoch 20/20\n",
      " - 1s - loss: 1.0204e-07 - acc: 1.0000 - val_loss: 0.0445 - val_acc: 0.9958\n",
      " test set \n",
      "\n",
      " The test loss is %f  [0.04136170730107139, 0.9958100116252899]\n",
      "\n",
      " The accuracy of the model is 0.979000 \n"
     ]
    }
   ],
   "source": [
    "batch_size = 128\n",
    "epochs = 20\n",
    "\n",
    "import tensorflow as tf\n",
    "gpu_options = tf.GPUOptions(per_process_gpu_memory_fraction=0.333)\n",
    "sess = tf.Session(config=tf.ConfigProto(gpu_options=gpu_options))\n",
    "\n",
    "history = model.fit(X_train,Y_train,batch_size = batch_size, epochs=epochs, shuffle=True,verbose=2,validation_split=0.3 )\n",
    " \n",
    "print ( \" test set \" )\n",
    "scores = model.evaluate(X_test,Y_test,batch_size=200,verbose= 0)\n",
    "print ( \"\" )\n",
    "#print ( \" The test loss is %f \" % scores)\n",
    "print ( \" The test loss is %f \", scores)\n",
    "result = model.predict(X_test,batch_size=200,verbose= 0)\n",
    "\n",
    "result_max = numpy.argmax(result, axis = 1 )\n",
    "test_max = numpy.argmax(Y_test, axis = 1 )\n",
    "\n",
    "result_bool = numpy.equal(result_max, test_max)\n",
    "true_num = numpy.sum(result_bool)\n",
    "print ( \"\" )\n",
    "print ( \" The accuracy of the model is %f \" % (true_num/len(result_bool)))"
   ]
  },
  {
   "cell_type": "code",
   "execution_count": 93,
   "metadata": {},
   "outputs": [
    {
     "data": {
      "image/png": "[encoded data removed]",
      "text/plain": [
       "<Figure size 432x288 with 1 Axes>"
      ]
     },
     "metadata": {
      "needs_background": "light"
     },
     "output_type": "display_data"
    },
    {
     "data": {
      "image/png": "[encoded data removed]",
      "text/plain": [
       "<Figure size 432x288 with 1 Axes>"
      ]
     },
     "metadata": {
      "needs_background": "light"
     },
     "output_type": "display_data"
    }
   ],
   "source": [
    "import matplotlib.pyplot as plt\n",
    "\n",
    "%matplotlib inline\n",
    "\n",
    "# history = model.fit(x, y, validation_split=0.25, epochs=50, batch_size=16, verbose=1)\n",
    "\n",
    "# Plot training & validation accuracy values\n",
    "plt.plot(history.history['acc'])\n",
    "plt.plot(history.history['val_acc'])\n",
    "plt.title('Model accuracy')\n",
    "plt.ylabel('Accuracy')\n",
    "plt.xlabel('Epoch')\n",
    "plt.legend(['Train', 'Test'], loc='upper left')\n",
    "plt.show()\n",
    "\n",
    "# Plot training & validation loss values\n",
    "plt.plot(history.history['loss'])\n",
    "plt.plot(history.history['val_loss'])\n",
    "plt.title('Model loss')\n",
    "plt.ylabel('Loss')\n",
    "plt.xlabel('Epoch')\n",
    "plt.legend(['Train', 'Test'], loc='upper left')\n",
    "plt.show()"
   ]
  },
  {
   "cell_type": "markdown",
   "metadata": {},
   "source": [
    "# RMSprop"
   ]
  },
  {
   "cell_type": "code",
   "execution_count": 95,
   "metadata": {},
   "outputs": [],
   "source": [
    "opt = optimizers.RMSprop(lr=0.001)"
   ]
  },
  {
   "cell_type": "code",
   "execution_count": 96,
   "metadata": {},
   "outputs": [
    {
     "name": "stdout",
     "output_type": "stream",
     "text": [
      "Train on 42000 samples, validate on 18000 samples\n",
      "Epoch 1/20\n",
      " - 2s - loss: 1.0202e-07 - acc: 1.0000 - val_loss: 0.0446 - val_acc: 0.9958\n",
      "Epoch 2/20\n",
      " - 1s - loss: 1.0201e-07 - acc: 1.0000 - val_loss: 0.0446 - val_acc: 0.9958\n",
      "Epoch 3/20\n",
      " - 1s - loss: 1.0200e-07 - acc: 1.0000 - val_loss: 0.0447 - val_acc: 0.9958\n",
      "Epoch 4/20\n",
      " - 1s - loss: 1.0200e-07 - acc: 1.0000 - val_loss: 0.0447 - val_acc: 0.9958\n",
      "Epoch 5/20\n",
      " - 1s - loss: 1.0199e-07 - acc: 1.0000 - val_loss: 0.0448 - val_acc: 0.9958\n",
      "Epoch 6/20\n",
      " - 2s - loss: 1.0198e-07 - acc: 1.0000 - val_loss: 0.0448 - val_acc: 0.9958\n",
      "Epoch 7/20\n",
      " - 2s - loss: 1.0198e-07 - acc: 1.0000 - val_loss: 0.0448 - val_acc: 0.9957\n",
      "Epoch 8/20\n",
      " - 2s - loss: 1.0197e-07 - acc: 1.0000 - val_loss: 0.0449 - val_acc: 0.9957\n",
      "Epoch 9/20\n",
      " - 2s - loss: 1.0197e-07 - acc: 1.0000 - val_loss: 0.0449 - val_acc: 0.9957\n",
      "Epoch 10/20\n",
      " - 2s - loss: 1.0196e-07 - acc: 1.0000 - val_loss: 0.0449 - val_acc: 0.9957\n",
      "Epoch 11/20\n",
      " - 1s - loss: 1.0196e-07 - acc: 1.0000 - val_loss: 0.0450 - val_acc: 0.9957\n",
      "Epoch 12/20\n",
      " - 2s - loss: 1.0196e-07 - acc: 1.0000 - val_loss: 0.0450 - val_acc: 0.9957\n",
      "Epoch 13/20\n",
      " - 1s - loss: 1.0195e-07 - acc: 1.0000 - val_loss: 0.0450 - val_acc: 0.9957\n",
      "Epoch 14/20\n",
      " - 2s - loss: 1.0195e-07 - acc: 1.0000 - val_loss: 0.0451 - val_acc: 0.9958\n",
      "Epoch 15/20\n",
      " - 2s - loss: 1.0195e-07 - acc: 1.0000 - val_loss: 0.0451 - val_acc: 0.9958\n",
      "Epoch 16/20\n",
      " - 2s - loss: 1.0195e-07 - acc: 1.0000 - val_loss: 0.0451 - val_acc: 0.9958\n",
      "Epoch 17/20\n",
      " - 2s - loss: 1.0195e-07 - acc: 1.0000 - val_loss: 0.0452 - val_acc: 0.9957\n",
      "Epoch 18/20\n",
      " - 2s - loss: 1.0195e-07 - acc: 1.0000 - val_loss: 0.0452 - val_acc: 0.9958\n",
      "Epoch 19/20\n",
      " - 2s - loss: 1.0194e-07 - acc: 1.0000 - val_loss: 0.0452 - val_acc: 0.9958\n",
      "Epoch 20/20\n",
      " - 1s - loss: 1.0194e-07 - acc: 1.0000 - val_loss: 0.0452 - val_acc: 0.9958\n",
      " test set \n",
      "\n",
      " The test loss is %f  [0.04212036647142256, 0.9957700133323669]\n",
      "\n",
      " The accuracy of the model is 0.978800 \n"
     ]
    }
   ],
   "source": [
    "batch_size = 128\n",
    "epochs = 20\n",
    "\n",
    "import tensorflow as tf\n",
    "gpu_options = tf.GPUOptions(per_process_gpu_memory_fraction=0.333)\n",
    "sess = tf.Session(config=tf.ConfigProto(gpu_options=gpu_options))\n",
    "\n",
    "history = model.fit(X_train,Y_train,batch_size = batch_size, epochs=epochs, shuffle=True,verbose=2,validation_split=0.3 )\n",
    " \n",
    "print ( \" test set \" )\n",
    "scores = model.evaluate(X_test,Y_test,batch_size=200,verbose= 0)\n",
    "print ( \"\" )\n",
    "#print ( \" The test loss is %f \" % scores)\n",
    "print ( \" The test loss is %f \", scores)\n",
    "result = model.predict(X_test,batch_size=200,verbose= 0)\n",
    "\n",
    "result_max = numpy.argmax(result, axis = 1 )\n",
    "test_max = numpy.argmax(Y_test, axis = 1 )\n",
    "\n",
    "result_bool = numpy.equal(result_max, test_max)\n",
    "true_num = numpy.sum(result_bool)\n",
    "print ( \"\" )\n",
    "print ( \" The accuracy of the model is %f \" % (true_num/len(result_bool)))"
   ]
  },
  {
   "cell_type": "code",
   "execution_count": null,
   "metadata": {},
   "outputs": [],
   "source": []
  }
 ],
 "metadata": {
  "kernelspec": {
   "display_name": "tensorflow_image",
   "language": "python",
   "name": "tensorflow_image"
  },
  "language_info": {
   "codemirror_mode": {
    "name": "ipython",
    "version": 3
   },
   "file_extension": ".py",
   "mimetype": "text/x-python",
   "name": "python",
   "nbconvert_exporter": "python",
   "pygments_lexer": "ipython3",
   "version": "3.5.6"
  }
 },
 "nbformat": 4,
 "nbformat_minor": 2
}
