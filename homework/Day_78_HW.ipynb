{
 "cells": [
  {
   "cell_type": "markdown",
   "metadata": {},
   "source": [
    "## Work\n",
    "1. 請嘗試將 preproc_x 替換成以每筆資料的 min/max 進行標準化至 -1 ~ 1 間，再進行訓練\n",
    "2. 請嘗試將 mlp 疊更深 (e.g 5~10 層)，進行訓練後觀察 learning curve 的走勢\n",
    "3. (optional) 請改用 GPU 進行訓練 (如果你有 GPU 的話)，比較使用 CPU 與 GPU 的訓練速度"
   ]
  },
  {
   "cell_type": "code",
   "execution_count": 1,
   "metadata": {},
   "outputs": [],
   "source": [
    "## \n",
    "\"\"\"\n",
    "Your code here (optional)\n",
    "確認硬體資源\n",
    "\"\"\"\n"
   ]
  },
  {
   "cell_type": "code",
   "execution_count": 1,
   "metadata": {},
   "outputs": [
    {
     "name": "stderr",
     "output_type": "stream",
     "text": [
      "Using TensorFlow backend.\n"
     ]
    }
   ],
   "source": [
    "import os\n",
    "import keras\n",
    "\n",
    "# 請嘗試設定 GPU：os.environ\n",
    "os.environ[\"CUDA_VISIBLE_DEVICES\"] = \"0\""
   ]
  },
  {
   "cell_type": "code",
   "execution_count": 2,
   "metadata": {},
   "outputs": [],
   "source": [
    "train, test = keras.datasets.cifar10.load_data()"
   ]
  },
  {
   "cell_type": "code",
   "execution_count": 3,
   "metadata": {},
   "outputs": [],
   "source": [
    "## 資料前處理\n",
    "\"\"\"\n",
    "Your code here\n",
    "\"\"\"\n",
    "def preproc_x(x, flatten=True):\n",
    "    x = 2*(((x - x.min()) / (x.max() - x.min()))-0.5)\n",
    "    if flatten:\n",
    "        x = x.reshape((len(x), -1))\n",
    "    return x\n",
    "\n",
    "def preproc_y(y, num_classes=10):\n",
    "    if y.shape[-1] == 1:\n",
    "        y = keras.utils.to_categorical(y, num_classes)\n",
    "    return y   "
   ]
  },
  {
   "cell_type": "code",
   "execution_count": 4,
   "metadata": {},
   "outputs": [],
   "source": [
    "x_train, y_train = train\n",
    "x_test, y_test = test\n",
    "\n",
    "# Preproc the inputs\n",
    "x_train = preproc_x(x_train)\n",
    "x_test = preproc_x(x_test)\n",
    "\n",
    "# Preprc the outputs\n",
    "y_train = preproc_y(y_train)\n",
    "y_test = preproc_y(y_test)"
   ]
  },
  {
   "cell_type": "code",
   "execution_count": 12,
   "metadata": {},
   "outputs": [],
   "source": [
    "\"\"\"Code Here\n",
    "建立你的神經網路\n",
    "\"\"\"\n",
    "def build_mlp(input_shape, output_units=10, num_neurons=[512, 256, 128, 64, 32]):\n",
    "    input_layer = keras.layers.Input(input_shape)\n",
    "    for i, n_units in enumerate(num_neurons):\n",
    "        if i == 0:\n",
    "            x = keras.layers.Dense(units=n_units, activation=\"relu\", name=\"hidden_layer\"+str(i+1))(input_layer)\n",
    "        else:\n",
    "            x = keras.layers.Dense(units=n_units, activation=\"relu\", name=\"hidden_layer\"+str(i+1))(x)\n",
    "    out = keras.layers.Dense(units=output_units, activation=\"softmax\")(x)\n",
    "    model = keras.models.Model(inputs=[input_layer], outputs=[out])\n",
    "    return model"
   ]
  },
  {
   "cell_type": "code",
   "execution_count": 13,
   "metadata": {},
   "outputs": [
    {
     "name": "stdout",
     "output_type": "stream",
     "text": [
      "_________________________________________________________________\n",
      "Layer (type)                 Output Shape              Param #   \n",
      "=================================================================\n",
      "input_2 (InputLayer)         (None, 3072)              0         \n",
      "_________________________________________________________________\n",
      "hidden_layer1 (Dense)        (None, 512)               1573376   \n",
      "_________________________________________________________________\n",
      "hidden_layer2 (Dense)        (None, 256)               131328    \n",
      "_________________________________________________________________\n",
      "hidden_layer3 (Dense)        (None, 128)               32896     \n",
      "_________________________________________________________________\n",
      "hidden_layer4 (Dense)        (None, 64)                8256      \n",
      "_________________________________________________________________\n",
      "hidden_layer5 (Dense)        (None, 32)                2080      \n",
      "_________________________________________________________________\n",
      "dense_2 (Dense)              (None, 10)                330       \n",
      "=================================================================\n",
      "Total params: 1,748,266\n",
      "Trainable params: 1,748,266\n",
      "Non-trainable params: 0\n",
      "_________________________________________________________________\n"
     ]
    }
   ],
   "source": [
    "model = build_mlp(input_shape=x_train.shape[1:])\n",
    "model.summary()"
   ]
  },
  {
   "cell_type": "code",
   "execution_count": 14,
   "metadata": {},
   "outputs": [],
   "source": [
    "## 超參數設定\n",
    "LEARNING_RATE = 0.001\n",
    "EPOCHS = 100\n",
    "BATCH_SIZE = 256"
   ]
  },
  {
   "cell_type": "code",
   "execution_count": 15,
   "metadata": {},
   "outputs": [],
   "source": [
    "optimizer = keras.optimizers.Adam(lr=LEARNING_RATE)\n",
    "model.compile(loss=\"categorical_crossentropy\", metrics=[\"accuracy\"], optimizer=optimizer)"
   ]
  },
  {
   "cell_type": "code",
   "execution_count": 16,
   "metadata": {},
   "outputs": [
    {
     "name": "stdout",
     "output_type": "stream",
     "text": [
      "Train on 50000 samples, validate on 10000 samples\n",
      "Epoch 1/100\n",
      "50000/50000 [==============================] - 3s 56us/step - loss: 1.7395 - acc: 0.3856 - val_loss: 1.5441 - val_acc: 0.4503\n",
      "Epoch 2/100\n",
      "50000/50000 [==============================] - 2s 44us/step - loss: 1.4851 - acc: 0.4755 - val_loss: 1.4811 - val_acc: 0.4773\n",
      "Epoch 3/100\n",
      "50000/50000 [==============================] - 2s 46us/step - loss: 1.3645 - acc: 0.5195 - val_loss: 1.4149 - val_acc: 0.5023\n",
      "Epoch 4/100\n",
      "50000/50000 [==============================] - 2s 47us/step - loss: 1.2709 - acc: 0.5555 - val_loss: 1.3822 - val_acc: 0.5204\n",
      "Epoch 5/100\n",
      "50000/50000 [==============================] - 2s 46us/step - loss: 1.1933 - acc: 0.5799 - val_loss: 1.3979 - val_acc: 0.5127\n",
      "Epoch 6/100\n",
      "50000/50000 [==============================] - 3s 51us/step - loss: 1.1168 - acc: 0.6074 - val_loss: 1.4097 - val_acc: 0.5198\n",
      "Epoch 7/100\n",
      "50000/50000 [==============================] - 2s 49us/step - loss: 1.0332 - acc: 0.6357 - val_loss: 1.3724 - val_acc: 0.5260\n",
      "Epoch 8/100\n",
      "50000/50000 [==============================] - 3s 53us/step - loss: 0.9611 - acc: 0.6593 - val_loss: 1.4133 - val_acc: 0.5273\n",
      "Epoch 9/100\n",
      "50000/50000 [==============================] - 2s 48us/step - loss: 0.8947 - acc: 0.6834 - val_loss: 1.4482 - val_acc: 0.5268\n",
      "Epoch 10/100\n",
      "50000/50000 [==============================] - 2s 47us/step - loss: 0.8250 - acc: 0.7059 - val_loss: 1.4949 - val_acc: 0.5318\n",
      "Epoch 11/100\n",
      "50000/50000 [==============================] - 2s 47us/step - loss: 0.7588 - acc: 0.7312 - val_loss: 1.5181 - val_acc: 0.5295\n",
      "Epoch 12/100\n",
      "50000/50000 [==============================] - 2s 47us/step - loss: 0.6976 - acc: 0.7525 - val_loss: 1.6174 - val_acc: 0.5291\n",
      "Epoch 13/100\n",
      "50000/50000 [==============================] - 2s 46us/step - loss: 0.6440 - acc: 0.7727 - val_loss: 1.6375 - val_acc: 0.5276\n",
      "Epoch 14/100\n",
      "50000/50000 [==============================] - 2s 47us/step - loss: 0.5902 - acc: 0.7906 - val_loss: 1.7157 - val_acc: 0.5348\n",
      "Epoch 15/100\n",
      "50000/50000 [==============================] - 2s 46us/step - loss: 0.5234 - acc: 0.8144 - val_loss: 1.8023 - val_acc: 0.5248\n",
      "Epoch 16/100\n",
      "50000/50000 [==============================] - 3s 50us/step - loss: 0.4899 - acc: 0.8279 - val_loss: 1.9040 - val_acc: 0.5309\n",
      "Epoch 17/100\n",
      "50000/50000 [==============================] - 2s 47us/step - loss: 0.4399 - acc: 0.8446 - val_loss: 2.0103 - val_acc: 0.5298\n",
      "Epoch 18/100\n",
      "50000/50000 [==============================] - 2s 45us/step - loss: 0.4116 - acc: 0.8542 - val_loss: 2.0673 - val_acc: 0.5278\n",
      "Epoch 19/100\n",
      "50000/50000 [==============================] - 2s 44us/step - loss: 0.3849 - acc: 0.8652 - val_loss: 2.1718 - val_acc: 0.5279\n",
      "Epoch 20/100\n",
      "50000/50000 [==============================] - 2s 46us/step - loss: 0.3519 - acc: 0.8780 - val_loss: 2.2125 - val_acc: 0.5353\n",
      "Epoch 21/100\n",
      "50000/50000 [==============================] - 2s 46us/step - loss: 0.3239 - acc: 0.8874 - val_loss: 2.3052 - val_acc: 0.5276\n",
      "Epoch 22/100\n",
      "50000/50000 [==============================] - 2s 45us/step - loss: 0.2994 - acc: 0.8956 - val_loss: 2.3908 - val_acc: 0.5301\n",
      "Epoch 23/100\n",
      "50000/50000 [==============================] - 2s 46us/step - loss: 0.2807 - acc: 0.9018 - val_loss: 2.3622 - val_acc: 0.5258\n",
      "Epoch 24/100\n",
      "50000/50000 [==============================] - 2s 46us/step - loss: 0.2565 - acc: 0.9095 - val_loss: 2.6167 - val_acc: 0.5281\n",
      "Epoch 25/100\n",
      "50000/50000 [==============================] - 3s 50us/step - loss: 0.2508 - acc: 0.9137 - val_loss: 2.4841 - val_acc: 0.5366\n",
      "Epoch 26/100\n",
      "50000/50000 [==============================] - 3s 52us/step - loss: 0.2239 - acc: 0.9234 - val_loss: 2.7364 - val_acc: 0.5312\n",
      "Epoch 27/100\n",
      "50000/50000 [==============================] - 2s 44us/step - loss: 0.2323 - acc: 0.9194 - val_loss: 2.7371 - val_acc: 0.5331\n",
      "Epoch 28/100\n",
      "50000/50000 [==============================] - 2s 44us/step - loss: 0.1995 - acc: 0.9318 - val_loss: 2.8444 - val_acc: 0.5267\n",
      "Epoch 29/100\n",
      "50000/50000 [==============================] - 2s 45us/step - loss: 0.2084 - acc: 0.9284 - val_loss: 2.8349 - val_acc: 0.5306\n",
      "Epoch 30/100\n",
      "50000/50000 [==============================] - 2s 45us/step - loss: 0.2194 - acc: 0.9251 - val_loss: 2.8727 - val_acc: 0.5175\n",
      "Epoch 31/100\n",
      "50000/50000 [==============================] - 2s 45us/step - loss: 0.1901 - acc: 0.9339 - val_loss: 2.9910 - val_acc: 0.5288\n",
      "Epoch 32/100\n",
      "50000/50000 [==============================] - 2s 47us/step - loss: 0.1800 - acc: 0.9377 - val_loss: 3.0569 - val_acc: 0.5261\n",
      "Epoch 33/100\n",
      "50000/50000 [==============================] - 2s 49us/step - loss: 0.1934 - acc: 0.9346 - val_loss: 3.0508 - val_acc: 0.5278\n",
      "Epoch 34/100\n",
      "50000/50000 [==============================] - 2s 46us/step - loss: 0.1616 - acc: 0.9446 - val_loss: 3.1849 - val_acc: 0.5305\n",
      "Epoch 35/100\n",
      "50000/50000 [==============================] - 2s 45us/step - loss: 0.1491 - acc: 0.9497 - val_loss: 3.1602 - val_acc: 0.5333\n",
      "Epoch 36/100\n",
      "50000/50000 [==============================] - 2s 46us/step - loss: 0.1482 - acc: 0.9490 - val_loss: 3.2812 - val_acc: 0.5356\n",
      "Epoch 37/100\n",
      "50000/50000 [==============================] - 2s 45us/step - loss: 0.1566 - acc: 0.9459 - val_loss: 3.2358 - val_acc: 0.5329\n",
      "Epoch 38/100\n",
      "50000/50000 [==============================] - 2s 45us/step - loss: 0.1620 - acc: 0.9457 - val_loss: 3.2362 - val_acc: 0.5259\n",
      "Epoch 39/100\n",
      "50000/50000 [==============================] - 2s 45us/step - loss: 0.1454 - acc: 0.9515 - val_loss: 3.2028 - val_acc: 0.5279\n",
      "Epoch 40/100\n",
      "50000/50000 [==============================] - 2s 46us/step - loss: 0.1312 - acc: 0.9548 - val_loss: 3.3826 - val_acc: 0.5276\n",
      "Epoch 41/100\n",
      "50000/50000 [==============================] - 2s 46us/step - loss: 0.1440 - acc: 0.9503 - val_loss: 3.3615 - val_acc: 0.5280\n",
      "Epoch 42/100\n",
      "50000/50000 [==============================] - 2s 47us/step - loss: 0.1460 - acc: 0.9508 - val_loss: 3.2772 - val_acc: 0.5298\n",
      "Epoch 43/100\n",
      "50000/50000 [==============================] - 2s 47us/step - loss: 0.1337 - acc: 0.9544 - val_loss: 3.3089 - val_acc: 0.5324\n",
      "Epoch 44/100\n",
      "50000/50000 [==============================] - 2s 48us/step - loss: 0.1246 - acc: 0.9591 - val_loss: 3.4207 - val_acc: 0.5317\n",
      "Epoch 45/100\n",
      "50000/50000 [==============================] - 2s 47us/step - loss: 0.1322 - acc: 0.9558 - val_loss: 3.2959 - val_acc: 0.5320\n",
      "Epoch 46/100\n",
      "50000/50000 [==============================] - 2s 45us/step - loss: 0.1258 - acc: 0.9575 - val_loss: 3.5868 - val_acc: 0.5210\n",
      "Epoch 47/100\n",
      "50000/50000 [==============================] - 2s 45us/step - loss: 0.1267 - acc: 0.9574 - val_loss: 3.5088 - val_acc: 0.5362\n",
      "Epoch 48/100\n",
      "50000/50000 [==============================] - 2s 48us/step - loss: 0.1143 - acc: 0.9621 - val_loss: 3.5466 - val_acc: 0.5325\n",
      "Epoch 49/100\n",
      "50000/50000 [==============================] - 2s 45us/step - loss: 0.1310 - acc: 0.9570 - val_loss: 3.4082 - val_acc: 0.5275\n",
      "Epoch 50/100\n",
      "50000/50000 [==============================] - 2s 45us/step - loss: 0.1129 - acc: 0.9635 - val_loss: 3.3746 - val_acc: 0.5257\n",
      "Epoch 51/100\n",
      "50000/50000 [==============================] - 2s 45us/step - loss: 0.1337 - acc: 0.9555 - val_loss: 3.4611 - val_acc: 0.5311\n",
      "Epoch 52/100\n",
      "50000/50000 [==============================] - 2s 45us/step - loss: 0.0945 - acc: 0.9682 - val_loss: 3.6665 - val_acc: 0.5281\n",
      "Epoch 53/100\n",
      "50000/50000 [==============================] - 2s 44us/step - loss: 0.0989 - acc: 0.9673 - val_loss: 3.7093 - val_acc: 0.5287\n",
      "Epoch 54/100\n",
      "50000/50000 [==============================] - 2s 44us/step - loss: 0.1071 - acc: 0.9644 - val_loss: 3.6682 - val_acc: 0.5236\n",
      "Epoch 55/100\n",
      "50000/50000 [==============================] - 2s 45us/step - loss: 0.1014 - acc: 0.9664 - val_loss: 3.7002 - val_acc: 0.5199\n",
      "Epoch 56/100\n",
      "50000/50000 [==============================] - 2s 46us/step - loss: 0.1091 - acc: 0.9634 - val_loss: 3.6399 - val_acc: 0.5282\n",
      "Epoch 57/100\n",
      "50000/50000 [==============================] - 2s 45us/step - loss: 0.0969 - acc: 0.9682 - val_loss: 3.6216 - val_acc: 0.5365\n",
      "Epoch 58/100\n",
      "50000/50000 [==============================] - 2s 46us/step - loss: 0.1075 - acc: 0.9653 - val_loss: 3.6538 - val_acc: 0.5284\n",
      "Epoch 59/100\n"
     ]
    },
    {
     "name": "stdout",
     "output_type": "stream",
     "text": [
      "50000/50000 [==============================] - 3s 54us/step - loss: 0.0866 - acc: 0.9723 - val_loss: 3.8192 - val_acc: 0.5275\n",
      "Epoch 60/100\n",
      "50000/50000 [==============================] - 3s 53us/step - loss: 0.1009 - acc: 0.9664 - val_loss: 3.6276 - val_acc: 0.5290\n",
      "Epoch 61/100\n",
      "50000/50000 [==============================] - 2s 46us/step - loss: 0.0900 - acc: 0.9703 - val_loss: 3.8374 - val_acc: 0.5249\n",
      "Epoch 62/100\n",
      "50000/50000 [==============================] - 2s 48us/step - loss: 0.1160 - acc: 0.9620 - val_loss: 3.6672 - val_acc: 0.5220\n",
      "Epoch 63/100\n",
      "50000/50000 [==============================] - 2s 45us/step - loss: 0.0871 - acc: 0.9713 - val_loss: 3.7068 - val_acc: 0.5264\n",
      "Epoch 64/100\n",
      "50000/50000 [==============================] - 2s 46us/step - loss: 0.0951 - acc: 0.9684 - val_loss: 3.6636 - val_acc: 0.5274\n",
      "Epoch 65/100\n",
      "50000/50000 [==============================] - 2s 45us/step - loss: 0.0972 - acc: 0.9683 - val_loss: 3.6978 - val_acc: 0.5219\n",
      "Epoch 66/100\n",
      "50000/50000 [==============================] - 2s 45us/step - loss: 0.0901 - acc: 0.9697 - val_loss: 3.7031 - val_acc: 0.5347\n",
      "Epoch 67/100\n",
      "50000/50000 [==============================] - 2s 45us/step - loss: 0.0771 - acc: 0.9740 - val_loss: 3.8432 - val_acc: 0.5252\n",
      "Epoch 68/100\n",
      "50000/50000 [==============================] - 2s 44us/step - loss: 0.0889 - acc: 0.9699 - val_loss: 3.9406 - val_acc: 0.5305\n",
      "Epoch 69/100\n",
      "50000/50000 [==============================] - 2s 45us/step - loss: 0.0847 - acc: 0.9722 - val_loss: 3.7473 - val_acc: 0.5247\n",
      "Epoch 70/100\n",
      "50000/50000 [==============================] - 2s 44us/step - loss: 0.0753 - acc: 0.9753 - val_loss: 3.8234 - val_acc: 0.5307\n",
      "Epoch 71/100\n",
      "50000/50000 [==============================] - 2s 45us/step - loss: 0.0862 - acc: 0.9718 - val_loss: 3.7488 - val_acc: 0.5336\n",
      "Epoch 72/100\n",
      "50000/50000 [==============================] - 2s 44us/step - loss: 0.0842 - acc: 0.9722 - val_loss: 3.8695 - val_acc: 0.5271\n",
      "Epoch 73/100\n",
      "50000/50000 [==============================] - 2s 44us/step - loss: 0.0868 - acc: 0.9725 - val_loss: 3.8269 - val_acc: 0.5291\n",
      "Epoch 74/100\n",
      "50000/50000 [==============================] - 2s 45us/step - loss: 0.0886 - acc: 0.9712 - val_loss: 3.7583 - val_acc: 0.5267\n",
      "Epoch 75/100\n",
      "50000/50000 [==============================] - 2s 44us/step - loss: 0.0997 - acc: 0.9676 - val_loss: 3.7540 - val_acc: 0.5353\n",
      "Epoch 76/100\n",
      "50000/50000 [==============================] - 2s 44us/step - loss: 0.0521 - acc: 0.9832 - val_loss: 3.9411 - val_acc: 0.5332\n",
      "Epoch 77/100\n",
      "50000/50000 [==============================] - 2s 44us/step - loss: 0.0817 - acc: 0.9738 - val_loss: 3.8001 - val_acc: 0.5279\n",
      "Epoch 78/100\n",
      "50000/50000 [==============================] - 2s 45us/step - loss: 0.0764 - acc: 0.9751 - val_loss: 3.8811 - val_acc: 0.5312\n",
      "Epoch 79/100\n",
      "50000/50000 [==============================] - 2s 45us/step - loss: 0.0868 - acc: 0.9719 - val_loss: 3.7880 - val_acc: 0.5300\n",
      "Epoch 80/100\n",
      "50000/50000 [==============================] - 2s 44us/step - loss: 0.0665 - acc: 0.9785 - val_loss: 3.8801 - val_acc: 0.5325\n",
      "Epoch 81/100\n",
      "50000/50000 [==============================] - 2s 45us/step - loss: 0.0761 - acc: 0.9754 - val_loss: 3.9140 - val_acc: 0.5310\n",
      "Epoch 82/100\n",
      "50000/50000 [==============================] - 2s 44us/step - loss: 0.0887 - acc: 0.9713 - val_loss: 3.8843 - val_acc: 0.5305\n",
      "Epoch 83/100\n",
      "50000/50000 [==============================] - 2s 45us/step - loss: 0.0909 - acc: 0.9711 - val_loss: 3.8924 - val_acc: 0.5332\n",
      "Epoch 84/100\n",
      "50000/50000 [==============================] - 2s 45us/step - loss: 0.0662 - acc: 0.9791 - val_loss: 4.0067 - val_acc: 0.5301\n",
      "Epoch 85/100\n",
      "50000/50000 [==============================] - 2s 45us/step - loss: 0.0686 - acc: 0.9786 - val_loss: 3.9270 - val_acc: 0.5272\n",
      "Epoch 86/100\n",
      "50000/50000 [==============================] - 2s 45us/step - loss: 0.0707 - acc: 0.9768 - val_loss: 3.8975 - val_acc: 0.5316\n",
      "Epoch 87/100\n",
      "50000/50000 [==============================] - 2s 44us/step - loss: 0.0828 - acc: 0.9735 - val_loss: 3.8654 - val_acc: 0.5345\n",
      "Epoch 88/100\n",
      "50000/50000 [==============================] - 2s 44us/step - loss: 0.0914 - acc: 0.9710 - val_loss: 3.8071 - val_acc: 0.5341\n",
      "Epoch 89/100\n",
      "50000/50000 [==============================] - 2s 44us/step - loss: 0.0495 - acc: 0.9842 - val_loss: 3.9466 - val_acc: 0.5336\n",
      "Epoch 90/100\n",
      "50000/50000 [==============================] - 2s 44us/step - loss: 0.0573 - acc: 0.9821 - val_loss: 3.9041 - val_acc: 0.5379\n",
      "Epoch 91/100\n",
      "50000/50000 [==============================] - 2s 45us/step - loss: 0.0547 - acc: 0.9825 - val_loss: 4.0552 - val_acc: 0.5315\n",
      "Epoch 92/100\n",
      "50000/50000 [==============================] - 2s 45us/step - loss: 0.0793 - acc: 0.9752 - val_loss: 3.9437 - val_acc: 0.5227\n",
      "Epoch 93/100\n",
      "50000/50000 [==============================] - 2s 45us/step - loss: 0.0820 - acc: 0.9729 - val_loss: 3.8932 - val_acc: 0.5337\n",
      "Epoch 94/100\n",
      "50000/50000 [==============================] - 2s 44us/step - loss: 0.0728 - acc: 0.9775 - val_loss: 3.8486 - val_acc: 0.5285\n",
      "Epoch 95/100\n",
      "50000/50000 [==============================] - 2s 47us/step - loss: 0.0491 - acc: 0.9844 - val_loss: 4.1085 - val_acc: 0.5342\n",
      "Epoch 96/100\n",
      "50000/50000 [==============================] - 2s 46us/step - loss: 0.0624 - acc: 0.9789 - val_loss: 4.0554 - val_acc: 0.5311\n",
      "Epoch 97/100\n",
      "50000/50000 [==============================] - 2s 48us/step - loss: 0.0677 - acc: 0.9788 - val_loss: 3.9209 - val_acc: 0.5299\n",
      "Epoch 98/100\n",
      "50000/50000 [==============================] - 2s 46us/step - loss: 0.0794 - acc: 0.9743 - val_loss: 3.9764 - val_acc: 0.5239\n",
      "Epoch 99/100\n",
      "50000/50000 [==============================] - 2s 45us/step - loss: 0.0818 - acc: 0.9736 - val_loss: 3.9440 - val_acc: 0.5355\n",
      "Epoch 100/100\n",
      "50000/50000 [==============================] - 2s 44us/step - loss: 0.0441 - acc: 0.9857 - val_loss: 3.9878 - val_acc: 0.5338\n"
     ]
    },
    {
     "data": {
      "text/plain": [
       "<keras.callbacks.History at 0x1faf2058a90>"
      ]
     },
     "execution_count": 16,
     "metadata": {},
     "output_type": "execute_result"
    }
   ],
   "source": [
    "model.fit(x_train, y_train, \n",
    "          epochs=EPOCHS, \n",
    "          batch_size=BATCH_SIZE, \n",
    "          validation_data=(x_test, y_test), \n",
    "          shuffle=True)"
   ]
  },
  {
   "cell_type": "code",
   "execution_count": 12,
   "metadata": {},
   "outputs": [
    {
     "data": {
      "image/png": "[encoded data removed]",
      "text/plain": [
       "<Figure size 432x288 with 1 Axes>"
      ]
     },
     "metadata": {},
     "output_type": "display_data"
    },
    {
     "data": {
      "image/png": "[encoded data removed]",
      "text/plain": [
       "<Figure size 432x288 with 1 Axes>"
      ]
     },
     "metadata": {},
     "output_type": "display_data"
    }
   ],
   "source": [
    "import matplotlib.pyplot as plt\n",
    "%matplotlib inline\n",
    "\n",
    "train_loss = model.history.history[\"loss\"]\n",
    "valid_loss = model.history.history[\"val_loss\"]\n",
    "\n",
    "train_acc = model.history.history[\"acc\"]\n",
    "valid_acc = model.history.history[\"val_acc\"]\n",
    "\n",
    "plt.plot(range(len(train_loss)), train_loss, label=\"train loss\")\n",
    "plt.plot(range(len(valid_loss)), valid_loss, label=\"valid loss\")\n",
    "plt.legend()\n",
    "plt.title(\"Loss\")\n",
    "plt.show()\n",
    "\n",
    "plt.plot(range(len(train_acc)), train_acc, label=\"train accuracy\")\n",
    "plt.plot(range(len(valid_acc)), valid_acc, label=\"valid accuracy\")\n",
    "plt.legend()\n",
    "plt.title(\"Accuracy\")\n",
    "plt.show()"
   ]
  },
  {
   "cell_type": "code",
   "execution_count": 17,
   "metadata": {},
   "outputs": [
    {
     "data": {
      "image/png": "[encoded data removed]",
      "text/plain": [
       "<Figure size 432x288 with 1 Axes>"
      ]
     },
     "metadata": {
      "needs_background": "light"
     },
     "output_type": "display_data"
    },
    {
     "data": {
      "image/png": "[encoded data removed]",
      "text/plain": [
       "<Figure size 432x288 with 1 Axes>"
      ]
     },
     "metadata": {
      "needs_background": "light"
     },
     "output_type": "display_data"
    }
   ],
   "source": [
    "import matplotlib.pyplot as plt\n",
    "%matplotlib inline\n",
    "\n",
    "train_loss = model.history.history[\"loss\"]\n",
    "valid_loss = model.history.history[\"val_loss\"]\n",
    "\n",
    "train_acc = model.history.history[\"acc\"]\n",
    "valid_acc = model.history.history[\"val_acc\"]\n",
    "\n",
    "plt.plot(range(len(train_loss)), train_loss, label=\"train loss\")\n",
    "plt.plot(range(len(valid_loss)), valid_loss, label=\"valid loss\")\n",
    "plt.legend()\n",
    "plt.title(\"Loss\")\n",
    "plt.show()\n",
    "\n",
    "plt.plot(range(len(train_acc)), train_acc, label=\"train accuracy\")\n",
    "plt.plot(range(len(valid_acc)), valid_acc, label=\"valid accuracy\")\n",
    "plt.legend()\n",
    "plt.title(\"Accuracy\")\n",
    "plt.show()"
   ]
  },
  {
   "cell_type": "code",
   "execution_count": null,
   "metadata": {},
   "outputs": [],
   "source": []
  }
 ],
 "metadata": {
  "kernelspec": {
   "display_name": "tensorflow_image",
   "language": "python",
   "name": "tensorflow_image"
  },
  "language_info": {
   "codemirror_mode": {
    "name": "ipython",
    "version": 3
   },
   "file_extension": ".py",
   "mimetype": "text/x-python",
   "name": "python",
   "nbconvert_exporter": "python",
   "pygments_lexer": "ipython3",
   "version": "3.5.6"
  }
 },
 "nbformat": 4,
 "nbformat_minor": 2
}
