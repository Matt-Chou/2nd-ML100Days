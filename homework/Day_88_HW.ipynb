{
 "cells": [
  {
   "cell_type": "markdown",
   "metadata": {},
   "source": [
    "## Work\n",
    "1. 請嘗試寫一個 callback 用來記錄各類別在訓練過程中，對驗證集的 True Positive 與 True Negative"
   ]
  },
  {
   "cell_type": "code",
   "execution_count": 1,
   "metadata": {},
   "outputs": [
    {
     "name": "stderr",
     "output_type": "stream",
     "text": [
      "Using TensorFlow backend.\n"
     ]
    }
   ],
   "source": [
    "import os\n",
    "import keras\n",
    "\n",
    "# Disable GPU\n",
    "os.environ[\"CUDA_VISIBLE_DEVICES\"] = \"0\""
   ]
  },
  {
   "cell_type": "code",
   "execution_count": 2,
   "metadata": {},
   "outputs": [],
   "source": [
    "import tensorflow as tf\n",
    "config = tf.ConfigProto()\n",
    "config.gpu_options.allow_growth = True\n",
    "session = tf.Session(config=config)\n",
    "train, test = keras.datasets.cifar10.load_data()"
   ]
  },
  {
   "cell_type": "code",
   "execution_count": 3,
   "metadata": {},
   "outputs": [],
   "source": [
    "## 資料前處理\n",
    "def preproc_x(x, flatten=True):\n",
    "    x = x / 255.\n",
    "    if flatten:\n",
    "        x = x.reshape((len(x), -1))\n",
    "    return x\n",
    "\n",
    "def preproc_y(y, num_classes=10):\n",
    "    if y.shape[-1] == 1:\n",
    "        y = keras.utils.to_categorical(y, num_classes)\n",
    "    return y    "
   ]
  },
  {
   "cell_type": "code",
   "execution_count": 4,
   "metadata": {},
   "outputs": [],
   "source": [
    "x_train, y_train = train\n",
    "x_test, y_test = test\n",
    "\n",
    "# Preproc the inputs\n",
    "x_train = preproc_x(x_train)\n",
    "x_test = preproc_x(x_test)\n",
    "\n",
    "# Preprc the outputs\n",
    "y_train = preproc_y(y_train)\n",
    "y_test = preproc_y(y_test)"
   ]
  },
  {
   "cell_type": "code",
   "execution_count": 5,
   "metadata": {},
   "outputs": [],
   "source": [
    "from keras.layers import BatchNormalization\n",
    "\n",
    "\"\"\"\n",
    "建立神經網路，並加入 BN layer\n",
    "\"\"\"\n",
    "def build_mlp(input_shape, output_units=10, num_neurons=[512, 256, 128]):\n",
    "    input_layer = keras.layers.Input(input_shape)\n",
    "    \n",
    "    for i, n_units in enumerate(num_neurons):\n",
    "        if i == 0:\n",
    "            x = keras.layers.Dense(units=n_units, \n",
    "                                   activation=\"relu\", \n",
    "                                   name=\"hidden_layer\"+str(i+1))(input_layer)\n",
    "            x = BatchNormalization()(x)\n",
    "        else:\n",
    "            x = keras.layers.Dense(units=n_units, \n",
    "                                   activation=\"relu\", \n",
    "                                   name=\"hidden_layer\"+str(i+1))(x)\n",
    "            x = BatchNormalization()(x)\n",
    "    \n",
    "    out = keras.layers.Dense(units=output_units, activation=\"softmax\", name=\"output\")(x)\n",
    "    \n",
    "    model = keras.models.Model(inputs=[input_layer], outputs=[out])\n",
    "    return model"
   ]
  },
  {
   "cell_type": "code",
   "execution_count": 6,
   "metadata": {},
   "outputs": [],
   "source": [
    "## 超參數設定\n",
    "LEARNING_RATE = 1e-3\n",
    "EPOCHS = 25\n",
    "BATCH_SIZE = 1024\n",
    "MOMENTUM = 0.95"
   ]
  },
  {
   "cell_type": "code",
   "execution_count": 11,
   "metadata": {},
   "outputs": [],
   "source": [
    "# 載入 Callbacks\n",
    "from keras.callbacks import Callback\n",
    "from sklearn.metrics import f1_score\n",
    "import numpy as np\n",
    "\n",
    "# Record_fp_tp\n",
    "class Record_tp_tn(Callback):\n",
    "    \"\"\"Code Here\n",
    "    撰寫一個紀錄 ture positive 與 true negative 數量的 callbacks    \n",
    "    \"\"\"\n",
    "    def on_train_begin(self, epoch, logs = {}):\n",
    "        logs = logs or {}\n",
    "        record_items = [\"val_fp\", \"val_fn\", \"val_tp\", \"val_tn\"]\n",
    "        for i in record_items:\n",
    "            if i not in self.params['metrics']:\n",
    "                self.params['metrics'].append(i)\n",
    "                \n",
    "    def on_epoch_end(self, epoch, logs = {}, thres = 0.5):\n",
    "        logs = logs or {}\n",
    "        y_true = self.validation_data[1].argmax(axis = 1)\n",
    "        y_pred = self.model.predict(self.validation_data[0])\n",
    "        y_pred = (y_pred[:, 1] >= thres) * 1\n",
    "        \n",
    "        logs[\"val_tp\"] = np.sum((y_true==y_pred)* y_true)\n",
    "        logs[\"val_tn\"] = np.sum((y_true==y_pred)* (1 - y_true))\n",
    "\n",
    "rec_tptn = Record_tp_tn()"
   ]
  },
  {
   "cell_type": "code",
   "execution_count": 12,
   "metadata": {
    "scrolled": true
   },
   "outputs": [
    {
     "name": "stdout",
     "output_type": "stream",
     "text": [
      "_________________________________________________________________\n",
      "Layer (type)                 Output Shape              Param #   \n",
      "=================================================================\n",
      "input_3 (InputLayer)         (None, 3072)              0         \n",
      "_________________________________________________________________\n",
      "hidden_layer1 (Dense)        (None, 512)               1573376   \n",
      "_________________________________________________________________\n",
      "batch_normalization_7 (Batch (None, 512)               2048      \n",
      "_________________________________________________________________\n",
      "hidden_layer2 (Dense)        (None, 256)               131328    \n",
      "_________________________________________________________________\n",
      "batch_normalization_8 (Batch (None, 256)               1024      \n",
      "_________________________________________________________________\n",
      "hidden_layer3 (Dense)        (None, 128)               32896     \n",
      "_________________________________________________________________\n",
      "batch_normalization_9 (Batch (None, 128)               512       \n",
      "_________________________________________________________________\n",
      "output (Dense)               (None, 10)                1290      \n",
      "=================================================================\n",
      "Total params: 1,742,474\n",
      "Trainable params: 1,740,682\n",
      "Non-trainable params: 1,792\n",
      "_________________________________________________________________\n",
      "Train on 50000 samples, validate on 10000 samples\n",
      "Epoch 1/25\n",
      "50000/50000 [==============================] - 3s 53us/step - loss: 2.2455 - acc: 0.2725 - val_loss: 2.1236 - val_acc: 0.3144\n",
      "Epoch 2/25\n",
      "50000/50000 [==============================] - 2s 36us/step - loss: 1.7401 - acc: 0.3968 - val_loss: 1.7770 - val_acc: 0.3934\n",
      "Epoch 3/25\n",
      "50000/50000 [==============================] - 2s 35us/step - loss: 1.6173 - acc: 0.4392 - val_loss: 1.6882 - val_acc: 0.4130\n",
      "Epoch 4/25\n",
      "50000/50000 [==============================] - 2s 35us/step - loss: 1.5427 - acc: 0.4624 - val_loss: 1.6213 - val_acc: 0.4324\n",
      "Epoch 5/25\n",
      "50000/50000 [==============================] - 2s 34us/step - loss: 1.4887 - acc: 0.4805 - val_loss: 1.5908 - val_acc: 0.4439\n",
      "Epoch 6/25\n",
      "50000/50000 [==============================] - 2s 35us/step - loss: 1.4439 - acc: 0.4960 - val_loss: 1.5694 - val_acc: 0.4517\n",
      "Epoch 7/25\n",
      "50000/50000 [==============================] - 2s 34us/step - loss: 1.4041 - acc: 0.5109 - val_loss: 1.5468 - val_acc: 0.4570\n",
      "Epoch 8/25\n",
      "50000/50000 [==============================] - 2s 35us/step - loss: 1.3692 - acc: 0.5239 - val_loss: 1.5137 - val_acc: 0.4652\n",
      "Epoch 9/25\n",
      "50000/50000 [==============================] - 2s 36us/step - loss: 1.3373 - acc: 0.5352 - val_loss: 1.5116 - val_acc: 0.4654\n",
      "Epoch 10/25\n",
      "50000/50000 [==============================] - 2s 35us/step - loss: 1.3061 - acc: 0.5472 - val_loss: 1.4980 - val_acc: 0.4741\n",
      "Epoch 11/25\n",
      "50000/50000 [==============================] - 2s 35us/step - loss: 1.2789 - acc: 0.5565 - val_loss: 1.4950 - val_acc: 0.4739\n",
      "Epoch 12/25\n",
      "50000/50000 [==============================] - 2s 34us/step - loss: 1.2515 - acc: 0.5670 - val_loss: 1.4861 - val_acc: 0.4759\n",
      "Epoch 13/25\n",
      "50000/50000 [==============================] - 2s 36us/step - loss: 1.2253 - acc: 0.5779 - val_loss: 1.4835 - val_acc: 0.4769\n",
      "Epoch 14/25\n",
      "50000/50000 [==============================] - 2s 35us/step - loss: 1.1998 - acc: 0.5858 - val_loss: 1.4695 - val_acc: 0.4819\n",
      "Epoch 15/25\n",
      "50000/50000 [==============================] - 2s 35us/step - loss: 1.1751 - acc: 0.5972 - val_loss: 1.4710 - val_acc: 0.4819\n",
      "Epoch 16/25\n",
      "50000/50000 [==============================] - 2s 35us/step - loss: 1.1537 - acc: 0.6039 - val_loss: 1.4828 - val_acc: 0.4788\n",
      "Epoch 17/25\n",
      "50000/50000 [==============================] - 2s 34us/step - loss: 1.1301 - acc: 0.6136 - val_loss: 1.4685 - val_acc: 0.4833\n",
      "Epoch 18/25\n",
      "50000/50000 [==============================] - 2s 34us/step - loss: 1.1061 - acc: 0.6217 - val_loss: 1.4589 - val_acc: 0.4843\n",
      "Epoch 19/25\n",
      "50000/50000 [==============================] - 2s 38us/step - loss: 1.0825 - acc: 0.6323 - val_loss: 1.4643 - val_acc: 0.4908\n",
      "Epoch 20/25\n",
      "50000/50000 [==============================] - 2s 36us/step - loss: 1.0620 - acc: 0.6395 - val_loss: 1.4643 - val_acc: 0.4921\n",
      "Epoch 21/25\n",
      "50000/50000 [==============================] - 2s 37us/step - loss: 1.0414 - acc: 0.6481 - val_loss: 1.4501 - val_acc: 0.4915\n",
      "Epoch 22/25\n",
      "50000/50000 [==============================] - 2s 34us/step - loss: 1.0201 - acc: 0.6555 - val_loss: 1.4592 - val_acc: 0.4917\n",
      "Epoch 23/25\n",
      "50000/50000 [==============================] - 2s 34us/step - loss: 0.9974 - acc: 0.6644 - val_loss: 1.4580 - val_acc: 0.4957\n",
      "Epoch 24/25\n",
      "50000/50000 [==============================] - 2s 34us/step - loss: 0.9787 - acc: 0.6711 - val_loss: 1.4648 - val_acc: 0.4930\n",
      "Epoch 25/25\n",
      "50000/50000 [==============================] - 2s 36us/step - loss: 0.9592 - acc: 0.6791 - val_loss: 1.4622 - val_acc: 0.4974\n"
     ]
    }
   ],
   "source": [
    "model = build_mlp(input_shape=x_train.shape[1:])\n",
    "model.summary()\n",
    "optimizer = keras.optimizers.SGD(lr=LEARNING_RATE, nesterov=True, momentum=MOMENTUM)\n",
    "model.compile(loss=\"categorical_crossentropy\", metrics=[\"accuracy\"], optimizer=optimizer)\n",
    "\n",
    "\"\"\"Code Here\n",
    "將 callbacks 放入模型訓練流程中\n",
    "\"\"\"\n",
    "model.fit(x_train, y_train, \n",
    "          epochs=EPOCHS, \n",
    "          batch_size=BATCH_SIZE, \n",
    "          validation_data=(x_test, y_test), \n",
    "          shuffle=True,\n",
    "          callbacks=[rec_tptn])\n",
    "\n",
    "# Collect results\n",
    "train_loss = model.history.history[\"loss\"]\n",
    "valid_loss = model.history.history[\"val_loss\"]\n",
    "train_acc = model.history.history[\"acc\"]\n",
    "valid_acc = model.history.history[\"val_acc\"]\n",
    "\n",
    "\"\"\"Code Here\n",
    "將 tp/tn 從訓練完的模型中取出\n",
    "\"\"\"\n",
    "valid_tp = model.history.history[\"val_tp\"]\n",
    "valid_tn = model.history.history[\"val_tn\"]"
   ]
  },
  {
   "cell_type": "code",
   "execution_count": 13,
   "metadata": {},
   "outputs": [
    {
     "data": {
      "image/png": "[encoded data removed]",
      "text/plain": [
       "<Figure size 432x288 with 1 Axes>"
      ]
     },
     "metadata": {
      "needs_background": "light"
     },
     "output_type": "display_data"
    },
    {
     "data": {
      "image/png": "[encoded data removed]",
      "text/plain": [
       "<Figure size 432x288 with 1 Axes>"
      ]
     },
     "metadata": {
      "needs_background": "light"
     },
     "output_type": "display_data"
    },
    {
     "data": {
      "image/png": "[encoded data removed]",
      "text/plain": [
       "<Figure size 432x288 with 1 Axes>"
      ]
     },
     "metadata": {
      "needs_background": "light"
     },
     "output_type": "display_data"
    }
   ],
   "source": [
    "import matplotlib.pyplot as plt\n",
    "%matplotlib inline\n",
    "\n",
    "plt.plot(range(len(train_loss)), train_loss, label=\"train loss\")\n",
    "plt.plot(range(len(valid_loss)), valid_loss, label=\"valid loss\")\n",
    "plt.legend()\n",
    "plt.title(\"Loss\")\n",
    "plt.show()\n",
    "\n",
    "plt.plot(range(len(train_acc)), train_acc, label=\"train accuracy\")\n",
    "plt.plot(range(len(valid_acc)), valid_acc, label=\"valid accuracy\")\n",
    "plt.legend()\n",
    "plt.title(\"Accuracy\")\n",
    "plt.show()\n",
    "\n",
    "plt.plot(range(len(valid_tp)), valid_tp, label=\"valid tp\", color=\"navy\")\n",
    "plt.plot(range(len(valid_tn)), valid_tn, label=\"valid tn\", color=\"red\")\n",
    "plt.legend()\n",
    "plt.title(\"True positives and True Negatives\")\n",
    "plt.show()\n"
   ]
  },
  {
   "cell_type": "code",
   "execution_count": null,
   "metadata": {},
   "outputs": [],
   "source": []
  }
 ],
 "metadata": {
  "kernelspec": {
   "display_name": "tensorflow_image",
   "language": "python",
   "name": "tensorflow_image"
  },
  "language_info": {
   "codemirror_mode": {
    "name": "ipython",
    "version": 3
   },
   "file_extension": ".py",
   "mimetype": "text/x-python",
   "name": "python",
   "nbconvert_exporter": "python",
   "pygments_lexer": "ipython3",
   "version": "3.5.6"
  }
 },
 "nbformat": 4,
 "nbformat_minor": 2
}
